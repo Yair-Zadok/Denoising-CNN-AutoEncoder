{
 "cells": [
  {
   "cell_type": "code",
   "execution_count": null,
   "id": "e936e20a",
   "metadata": {},
   "outputs": [],
   "source": [
    "import numpy as np\n",
    "from pydub import AudioSegment\n",
    "import os\n",
    "import shutil\n",
    "import math"
   ]
  },
  {
   "cell_type": "code",
   "execution_count": null,
   "id": "39a358cf",
   "metadata": {},
   "outputs": [],
   "source": [
    "def white_noise_gen(duration, sample_rate):\n",
    "    num_samples = int(duration * sample_rate)\n",
    "\n",
    "    # Creates array of length num_samples with mean 0, and std 1\n",
    "    white_noise = np.random.normal(0, 1, num_samples)\n",
    "\n",
    "    return white_noise\n",
    " \n",
    "# merges a song with white noise of random volume\n",
    "def song_noise_adder(audio_path, output_path):\n",
    "    song = AudioSegment.from_file(audio_path)\n",
    "    \n",
    "    white_noise = white_noise_gen(song.duration_seconds, song.frame_rate)\n",
    "    \n",
    "    # Match generated white noise specifications with original song\n",
    "    white_noise = AudioSegment(\n",
    "            data=white_noise.tobytes(),\n",
    "            sample_width=song.sample_width,\n",
    "            frame_rate=song.frame_rate,\n",
    "            channels=song.channels\n",
    "        )\n",
    "\n",
    "    volume_adjustment = np.random.uniform(15, 30) # random value between 15 and 30\n",
    "\n",
    "    # Overlay the original audio with the noise\n",
    "    noisy_audio = song.overlay(white_noise - volume_adjustment)\n",
    "    \n",
    "    # Adress edge case where noisy audio and original are mismatched in duration\n",
    "    noisy_audio = noisy_audio[:song.duration_seconds * 1000] # 1000 = milliseconds in a second\n",
    "\n",
    "    noisy_audio.export(output_path, format=\"wav\")"
   ]
  },
  {
   "cell_type": "code",
   "execution_count": null,
   "id": "3e4d5af9",
   "metadata": {},
   "outputs": [],
   "source": [
    "# Function creates organized noised and clean training audio,\n",
    "# input source_path as path to folder of audio with no sub-folders\n",
    "\n",
    "# Creates file structure of:\n",
    "#          output_path\n",
    "#               ^\n",
    "#             song_1\n",
    "#               ^    \n",
    "# clean_song_1.wav, dirty_song_1.wav\n",
    "\n",
    "def training_data_gen(source_path, output_path):\n",
    "    # Clear output_path if it already exists\n",
    "    if os.path.exists(output_path):\n",
    "            shutil.rmtree(output_path)\n",
    "            os.mkdir(output_path) \n",
    "    \n",
    "    # Collects all songs data needs to be generated for\n",
    "    song_path_arr = os.listdir(source_path)\n",
    "    \n",
    "    for song_path in song_path_arr:\n",
    "        # Create name for each song's folder\n",
    "        song_folder = os.path.splitext(song_path)[0] # remove extension\n",
    "        \n",
    "        # Get relative path of song's will-be folder\n",
    "        song_folder_path = os.path.join(output_path, song_folder)\n",
    "        os.mkdir(song_folder_path)\n",
    "        \n",
    "        song_source_path = os.path.join(source_path, song_path)\n",
    "        \n",
    "        # Get target paths of dirty and clean files\n",
    "        clean_song_path = os.path.join(song_folder_path, f\"clean_data_{song_path}\")\n",
    "        dirty_song_path = os.path.join(song_folder_path, f\"dirty_data_{song_path}\")\n",
    "\n",
    "        # Add clean and dirty files to their respective folder\n",
    "        shutil.copy(song_source_path, clean_song_path)\n",
    "        song_noise_adder(song_source_path, dirty_song_path)\n"
   ]
  },
  {
   "cell_type": "code",
   "execution_count": null,
   "id": "5860aded",
   "metadata": {
    "scrolled": true
   },
   "outputs": [],
   "source": [
    "source_folder = \"input_training_songs\"\n",
    "output_folder = \"training_data_generated\"\n",
    "\n",
    "training_data_gen(source_folder, output_folder)"
   ]
  }
 ],
 "metadata": {
  "kernelspec": {
   "display_name": "Python 3 (ipykernel)",
   "language": "python",
   "name": "python3"
  },
  "language_info": {
   "codemirror_mode": {
    "name": "ipython",
    "version": 3
   },
   "file_extension": ".py",
   "mimetype": "text/x-python",
   "name": "python",
   "nbconvert_exporter": "python",
   "pygments_lexer": "ipython3",
   "version": "3.9.17"
  }
 },
 "nbformat": 4,
 "nbformat_minor": 5
}
